{
 "cells": [
  {
   "cell_type": "code",
   "execution_count": null,
   "id": "9348784e",
   "metadata": {},
   "outputs": [],
   "source": [
    "import pandas as pd\n",
    "import mysql.connector as mysql\n",
    "from getpass import getpass\n",
    "import numpy as np\n",
    "import sys"
   ]
  },
  {
   "cell_type": "code",
   "execution_count": null,
   "id": "3e30c4f4",
   "metadata": {},
   "outputs": [],
   "source": [
    "while True:\n",
    "    username = getpass('Please enter MYSQL user\\n')\n",
    "    pass_word = getpass('Please enter MYSQL password\\n')\n",
    "    try:\n",
    "        db = mysql.connect(host='localhost', user= username, password= pass_word)\n",
    "        print('database successfully connected')\n",
    "        break\n",
    "    except:\n",
    "        print('database connection not successfull.')\n",
    "        i = input('Do you want to try again? (Y/N)\\n')\n",
    "        if i.lower == 'n':\n",
    "            sys.exit('Thank you for using this program')\n",
    "\n",
    "cur = db.cursor()"
   ]
  },
  {
   "cell_type": "code",
   "execution_count": null,
   "id": "1998f505",
   "metadata": {},
   "outputs": [],
   "source": [
    "cur.execute('USE yt_history')\n",
    "query = 'SELECT * FROM video'\n",
    "cur.execute(query)\n",
    "history_data = pd.DataFrame(cur.fetchall(),columns = ['Title','Channel','Category','Time','Date'])"
   ]
  },
  {
   "cell_type": "code",
   "execution_count": null,
   "id": "44ea91bf",
   "metadata": {},
   "outputs": [],
   "source": [
    "history_data.index = np.arange(1,len(history_data)+1)"
   ]
  },
  {
   "cell_type": "code",
   "execution_count": null,
   "id": "7ee24c08",
   "metadata": {},
   "outputs": [],
   "source": [
    "history_data.index.name = 'Sr_no'"
   ]
  },
  {
   "cell_type": "code",
   "execution_count": null,
   "id": "163158d2",
   "metadata": {},
   "outputs": [],
   "source": [
    "df = history_data.groupby([\"Date\",\"Category\"],sort = True)"
   ]
  },
  {
   "cell_type": "code",
   "execution_count": null,
   "id": "1fe6c15e",
   "metadata": {},
   "outputs": [],
   "source": [
    "new_df = df.size()"
   ]
  },
  {
   "cell_type": "code",
   "execution_count": null,
   "id": "84972122",
   "metadata": {},
   "outputs": [],
   "source": [
    "plot_data = new_df.unstack()"
   ]
  },
  {
   "cell_type": "code",
   "execution_count": null,
   "id": "8b67151f",
   "metadata": {},
   "outputs": [],
   "source": [
    "import plotly.graph_objects as go\n",
    "import chart_studio.plotly as py\n",
    "import seaborn as sns\n",
    "import cufflinks as cf\n",
    "%matplotlib inline\n",
    "import plotly.express as px\n",
    "from plotly.offline import download_plotlyjs, init_notebook_mode, plot, iplot\n",
    "init_notebook_mode(connected = True)\n",
    "cf.go_offline"
   ]
  },
  {
   "cell_type": "code",
   "execution_count": null,
   "id": "cc65e286",
   "metadata": {},
   "outputs": [],
   "source": [
    "fig = go.Figure()\n",
    "colors = ['rgb(255, 53, 94)','rgb(253, 91, 120)','rgb(255, 96, 55)','rgb(255, 153, 102)','rgb(255, 153, 51)','rgb(255, 204, 51)','rgb(255, 255, 102)','rgb(204, 255, 0)','rgb(102, 255, 102)','rgb(170, 240, 209)','rgb(22, 208, 203)','rgb(80, 191, 230)','rgb(156, 39, 176)','rgb(238, 52, 210)','rgb(255, 0, 204)']\n",
    "x=0\n",
    "for (category, column) in plot_data.items():\n",
    "    fig.add_trace(go.Scatter(x=plot_data.index, y=column,name=category,mode='lines+markers',line = {'width':1.34},hovertemplate=f'Category: {category}' + '<br>Date: %{x}<br>No. Of Videos: %{y}',line_color=colors[x]))\n",
    "    x+=1"
   ]
  },
  {
   "cell_type": "code",
   "execution_count": null,
   "id": "58182c02",
   "metadata": {},
   "outputs": [],
   "source": [
    "fig.update_layout(title = dict(text='Video Consumption Data Over Time By Category',font = dict(size=24,color='black'),xanchor='center',x=0.5,y=0.9,yanchor='top'))\n",
    "fig.update_layout(plot_bgcolor='#f2f6fa',paper_bgcolor='#f2f6fa')\n",
    "fig.update_layout(xaxis=dict(title=dict(text='Date',font=dict(size=18,color='black')),showline=True,linecolor='white',linewidth=4,showgrid=False,tickfont=dict(size=13,color='black')))\n",
    "fig.update_layout(yaxis=dict(title=dict(text='No. Of Videos',font=dict(size=18,color='black')),showgrid=False,zeroline=False,tickfont=dict(size=13,color='black')),showlegend=True)\n",
    "fig.show()"
   ]
  },
  {
   "cell_type": "code",
   "execution_count": null,
   "id": "4c4d36c3",
   "metadata": {},
   "outputs": [],
   "source": [
    "count_data = history_data['Category'].value_counts()"
   ]
  },
  {
   "cell_type": "code",
   "execution_count": null,
   "id": "76623cf4",
   "metadata": {},
   "outputs": [],
   "source": [
    "count_df = pd.DataFrame(count_data)"
   ]
  },
  {
   "cell_type": "code",
   "execution_count": null,
   "id": "6374cd7a",
   "metadata": {},
   "outputs": [],
   "source": [
    "count_df.rename(columns={'Category':'No. Of Videos'},inplace=True)"
   ]
  },
  {
   "cell_type": "code",
   "execution_count": null,
   "id": "8748c3ae",
   "metadata": {},
   "outputs": [],
   "source": [
    "count_df['Category'] = count_df.index"
   ]
  },
  {
   "cell_type": "code",
   "execution_count": null,
   "id": "670b1f83",
   "metadata": {},
   "outputs": [],
   "source": [
    "count_df.index = np.arange(1,len(count_df)+1)"
   ]
  },
  {
   "cell_type": "code",
   "execution_count": null,
   "id": "227ee9ff",
   "metadata": {},
   "outputs": [],
   "source": [
    "new_fig = px.bar(count_df,x='Category',y='No. Of Videos', title='VIDEO CONSUMPTION DATA BY CATEGORY',color = 'Category',text='No. Of Videos')\n",
    "new_fig.update_traces(textposition='outside',hovertemplate='Category: %{x}<br>No. Of Videos: %{y}')\n",
    "new_fig.update_layout(title = dict(text='Video Consumption Data By Category',font = dict(size=24,color='black'),xanchor='center',x=0.5,y=0.9,yanchor='top'))\n",
    "new_fig.update_layout(plot_bgcolor='#f2f6fa',paper_bgcolor='#f2f6fa')\n",
    "new_fig.update_layout(xaxis=dict(title=dict(text='Category',font=dict(size=18,color='black')),showline=True,linecolor='white',linewidth=4,showgrid=False,tickfont=dict(size=13,color='black')))\n",
    "new_fig.update_layout(yaxis=dict(title=dict(text='No. Of Videos',font=dict(size=18,color='black')),showgrid=False,zeroline=False,tickfont=dict(size=13,color='black')),showlegend=True)\n",
    "new_fig.show()"
   ]
  },
  {
   "cell_type": "code",
   "execution_count": null,
   "id": "978a3e9e",
   "metadata": {},
   "outputs": [],
   "source": [
    "frames = []\n",
    "x_axis = list(plot_data.columns)\n",
    "def y_axis(date):\n",
    "    return list(plot_data.loc[date])\n",
    "\n",
    "sliders_dict= {\n",
    "    \"active\": 0,\n",
    "    \"yanchor\": \"top\",\n",
    "    \"xanchor\": \"left\",\n",
    "    \"currentvalue\": {\n",
    "        \"font\": {\"size\": 20},\n",
    "        \"prefix\": \"Date:\",\n",
    "        \"visible\": True,\n",
    "        \"xanchor\": \"right\"\n",
    "    },\n",
    "    \"transition\": {\"duration\": 300, \"easing\": \"cubic-in-out\"},\n",
    "    \"pad\": {\"b\": 10, \"t\": 50},\n",
    "    \"len\": 0.9,\n",
    "    \"x\": 0.1,\n",
    "    \"y\": 0,\n",
    "    \"steps\": []\n",
    "}\n",
    "for date in plot_data.index:\n",
    "    frame = {'data':[go.Bar(x=x_axis,y=y_axis(date),textposition='outside',hovertemplate='Category: %{x}<br>No. Of Videos: %{y}',marker=dict(color=colors))],'name':date}\n",
    "    frames.append(frame)\n",
    "    slider_step = {\"args\": [\n",
    "        [date],\n",
    "        {\"frame\": {\"duration\": 300, \"redraw\": False},\n",
    "         \"mode\": \"immediate\",\n",
    "         \"transition\": {\"duration\": 300}}\n",
    "    ],\n",
    "        \"label\": date,\n",
    "        \"method\": \"animate\"}\n",
    "    sliders_dict[\"steps\"].append(slider_step)\n",
    "anim_fig = go.Figure(\n",
    "    data=[go.Bar(x=x_axis,y=y_axis('2023-01-28'),textposition='outside',hovertemplate='Category: %{x}<br>No. Of Videos: %{y}',marker=dict(color=colors))], \n",
    "    layout= dict(title = dict(text='Video Consumption Data By Category Over Time',font = dict(size=24,color='black'),xanchor='center',x=0.5,y=0.9,yanchor='top'),xaxis=dict(showline=True,linecolor='white',linewidth=4,showgrid=False,tickfont=dict(size=13,color='black')),yaxis=dict(title=dict(text='No. Of Videos',font=dict(size=18,color='black')),showgrid=False,zeroline=False,range=[0,250],tickfont=dict(size=13,color='black'))),\n",
    "    frames= frames)\n",
    "anim_fig[\"layout\"][\"updatemenus\"] = [\n",
    "    {\n",
    "        \"buttons\": [\n",
    "            {\n",
    "                \"args\": [None, {\"frame\": {\"duration\": 500, \"redraw\": False},\n",
    "                                \"fromcurrent\": True, \"transition\": {\"duration\": 300,\n",
    "                                                                    \"easing\": \"quadratic-in-out\"}}],\n",
    "                \"label\": \"Play\",\n",
    "                \"method\": \"animate\"\n",
    "            },\n",
    "            {\n",
    "                \"args\": [[None], {\"frame\": {\"duration\": 0, \"redraw\": False},\n",
    "                                  \"mode\": \"immediate\",\n",
    "                                  \"transition\": {\"duration\": 0}}],\n",
    "                \"label\": \"Pause\",\n",
    "                \"method\": \"animate\"\n",
    "            }\n",
    "        ],\n",
    "        \"direction\": \"left\",\n",
    "        \"pad\": {\"r\": 10, \"t\": 87},\n",
    "        \"showactive\": False,\n",
    "        \"type\": \"buttons\",\n",
    "        \"x\": 0.1,\n",
    "        \"xanchor\": \"right\",\n",
    "        \"y\": 0,\n",
    "        \"yanchor\": \"top\"\n",
    "    }\n",
    "]\n",
    "anim_fig[\"layout\"][\"sliders\"] = [sliders_dict]"
   ]
  },
  {
   "cell_type": "code",
   "execution_count": null,
   "id": "f29f108b",
   "metadata": {},
   "outputs": [],
   "source": [
    "anim_fig.show()"
   ]
  },
  {
   "cell_type": "code",
   "execution_count": null,
   "id": "d1a4463b",
   "metadata": {},
   "outputs": [],
   "source": []
  }
 ],
 "metadata": {
  "kernelspec": {
   "display_name": "Python 3 (ipykernel)",
   "language": "python",
   "name": "python3"
  },
  "language_info": {
   "codemirror_mode": {
    "name": "ipython",
    "version": 3
   },
   "file_extension": ".py",
   "mimetype": "text/x-python",
   "name": "python",
   "nbconvert_exporter": "python",
   "pygments_lexer": "ipython3",
   "version": "3.11.2"
  }
 },
 "nbformat": 4,
 "nbformat_minor": 5
}
